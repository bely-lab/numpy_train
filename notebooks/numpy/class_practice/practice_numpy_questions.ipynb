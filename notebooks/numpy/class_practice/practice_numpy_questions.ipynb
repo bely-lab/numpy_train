{
 "cells": [
  {
   "cell_type": "markdown",
   "metadata": {},
   "source": [
    "Get some practice with numpy:\n",
    "\n",
    "https://numpy.org/doc/2.1/user/absolute_beginners.html"
   ]
  },
  {
   "cell_type": "code",
   "execution_count": 2,
   "metadata": {},
   "outputs": [],
   "source": [
    "import numpy as np\n",
    "import pandas as pd\n",
    "import matplotlib.pyplot as plt"
   ]
  },
  {
   "cell_type": "markdown",
   "metadata": {},
   "source": [
    "Create a 1D NumPy array containing the numbers from 1 to 10.\n",
    "\n",
    "Create a 1D array with 20 evenly spaced numbers between 0 and 1."
   ]
  },
  {
   "cell_type": "code",
   "execution_count": 5,
   "metadata": {},
   "outputs": [
    {
     "name": "stdout",
     "output_type": "stream",
     "text": [
      "[ 1  2  3  4  5  6  7  8  9 10]\n",
      "[0.         0.05263158 0.10526316 0.15789474 0.21052632 0.26315789\n",
      " 0.31578947 0.36842105 0.42105263 0.47368421 0.52631579 0.57894737\n",
      " 0.63157895 0.68421053 0.73684211 0.78947368 0.84210526 0.89473684\n",
      " 0.94736842 1.        ]\n"
     ]
    }
   ],
   "source": [
    "# write code here\n",
    "arr_10=np.arange(1,11)\n",
    "arr_20=np.linspace(0,1,20)\n",
    "print(arr_10)\n",
    "print(arr_20)\n"
   ]
  },
  {
   "cell_type": "markdown",
   "metadata": {},
   "source": [
    "Create two separate matrices of the same size. Then combine these two matrices row-wise and then column-wise to create the respective new matrix and array."
   ]
  },
  {
   "cell_type": "code",
   "execution_count": 19,
   "metadata": {},
   "outputs": [
    {
     "name": "stdout",
     "output_type": "stream",
     "text": [
      "Column wise=\n",
      "\n",
      "[[1 2]\n",
      " [2 5]\n",
      " [1 3]\n",
      " [4 6]]\n",
      "\n",
      " Rowise combination=\n",
      "\n"
     ]
    },
    {
     "data": {
      "text/plain": [
       "array([[1, 2, 1, 3],\n",
       "       [2, 5, 4, 6]])"
      ]
     },
     "execution_count": 19,
     "metadata": {},
     "output_type": "execute_result"
    }
   ],
   "source": [
    "# write code here\n",
    "matrice1=np.array([[1,2],[2,5]])\n",
    "matrice2=np.array([[1,3],[4,6]])\n",
    "row_wise=np.hstack((matrice1,matrice2))\n",
    "colum_wise=np.vstack((matrice1,matrice2))\n",
    "\n",
    "print(\"Column wise=\\n\") \n",
    "print(colum_wise) \n",
    "print(\"\\n Rowise combination=\\n\") \n",
    "row_wise"
   ]
  },
  {
   "cell_type": "markdown",
   "metadata": {},
   "source": [
    "Create a 3x3 matrix of random numbers.\n",
    "\n",
    "Create a 4x4 matrix of zeros and then fill the first row with the numbers [1, 2, 3, 4]."
   ]
  },
  {
   "cell_type": "code",
   "execution_count": 24,
   "metadata": {},
   "outputs": [
    {
     "name": "stdout",
     "output_type": "stream",
     "text": [
      "[[0.59478951 0.47018399 0.92310546]\n",
      " [0.11628697 0.29813066 0.63712003]\n",
      " [0.2345178  0.91989209 0.37898822]]\n",
      "[[0. 0. 0. 0.]\n",
      " [0. 0. 0. 0.]\n",
      " [0. 0. 0. 0.]\n",
      " [0. 0. 0. 0.]]\n",
      "[[1. 2. 3. 4.]\n",
      " [0. 0. 0. 0.]\n",
      " [0. 0. 0. 0.]\n",
      " [0. 0. 0. 0.]]\n"
     ]
    }
   ],
   "source": [
    "# write code here\n",
    "arr3=np.random.rand(3,3)\n",
    "arr4_0=np.zeros((4,4))\n",
    "print(arr3)\n",
    "print(arr4_0)\n",
    "arr4_0[0]=[1,2,3,4]\n",
    "print(arr4_0)"
   ]
  },
  {
   "cell_type": "markdown",
   "metadata": {},
   "source": [
    "Reshape the 1D array of numbers from 1 to 10 into a 2x5 array."
   ]
  },
  {
   "cell_type": "code",
   "execution_count": 25,
   "metadata": {},
   "outputs": [
    {
     "data": {
      "text/plain": [
       "array([[ 1,  2,  3,  4,  5],\n",
       "       [ 6,  7,  8,  9, 10]])"
      ]
     },
     "execution_count": 25,
     "metadata": {},
     "output_type": "execute_result"
    }
   ],
   "source": [
    "# write code here\n",
    "arr_10.reshape(2,5)"
   ]
  },
  {
   "cell_type": "markdown",
   "metadata": {},
   "source": [
    "Create two 1D arrays of the same length. Stack them vertically and horizontally."
   ]
  },
  {
   "cell_type": "code",
   "execution_count": 36,
   "metadata": {},
   "outputs": [
    {
     "name": "stdout",
     "output_type": "stream",
     "text": [
      "Vertical\n",
      " [[ 1  2  3  4  5]\n",
      " [ 6  7  8  9 10]]\n",
      "Horizontal\n",
      " [ 1  2  3  4  5  6  7  8  9 10]\n"
     ]
    }
   ],
   "source": [
    "# write code here\n",
    "ar1=np.arange(1,6)\n",
    "ar2=np.arange(6,11)\n",
    "vertical=np.vstack((ar1,ar2))\n",
    "print(\"Vertical\\n\",vertical)\n",
    "horizontal=np.hstack((ar1,ar2))\n",
    "print(\"Horizontal\\n\",horizontal)"
   ]
  },
  {
   "cell_type": "markdown",
   "metadata": {},
   "source": [
    "Extract the second row and third column of a 4x4 matrix.\n",
    "\n",
    "Change the value of a specific element in this matrix to 100 using indexing."
   ]
  },
  {
   "cell_type": "code",
   "execution_count": 45,
   "metadata": {},
   "outputs": [
    {
     "name": "stdout",
     "output_type": "stream",
     "text": [
      "[[6 6 9 1]\n",
      " [5 4 1 6]\n",
      " [8 7 5 8]\n",
      " [1 6 1 6]]\n",
      "1\n"
     ]
    }
   ],
   "source": [
    "matrics=np.random.randint(1,10, size=(4,4))\n",
    "print(matrics)\n",
    "print(matrics[1,2])\n"
   ]
  },
  {
   "cell_type": "code",
   "execution_count": 46,
   "metadata": {},
   "outputs": [
    {
     "name": "stdout",
     "output_type": "stream",
     "text": [
      "[[  6   6   9   1]\n",
      " [  5   4   1   6]\n",
      " [  8   7   5   8]\n",
      " [  1   6   1 100]]\n"
     ]
    }
   ],
   "source": [
    "# write code here\n",
    "matrics[3,3]=100\n",
    "print(matrics)"
   ]
  },
  {
   "cell_type": "markdown",
   "metadata": {},
   "source": [
    "Replace all even numbers in the array of numbers from 1 to 10 with 0.\n",
    "\n",
    "Replace all values greater than 5 in the 4x4 random float array with 0.5."
   ]
  },
  {
   "cell_type": "code",
   "execution_count": 58,
   "metadata": {},
   "outputs": [
    {
     "name": "stdout",
     "output_type": "stream",
     "text": [
      "[ 1  2  3  4  5  6  7  8  9 10]\n",
      "After  even values replaced with 0\n",
      " [1 0 3 0 5 0 7 0 9 0]\n",
      "[[4.44909536 6.79486197 9.34114896 7.13264627]\n",
      " [2.18124794 3.36057281 0.66799086 8.04556053]\n",
      " [4.62380165 8.85393786 8.64109165 8.02241444]\n",
      " [2.15810035 3.10964938 6.68737425 7.31046062]]\n",
      "After values>5 replaced with 0.5 \n",
      " [[4.44909536 0.5        0.5        0.5       ]\n",
      " [2.18124794 3.36057281 0.66799086 0.5       ]\n",
      " [4.62380165 0.5        0.5        0.5       ]\n",
      " [2.15810035 3.10964938 0.5        0.5       ]]\n"
     ]
    }
   ],
   "source": [
    "# write code here\n",
    "arr1_10=np.arange(1,11)\n",
    "print(arr1_10)\n",
    "arr1_10[arr1_10%2==0]=0\n",
    "print(\"After  even values replaced with 0\\n\", arr1_10)\n",
    "arr4_by_4=np.random.rand(4,4)*10\n",
    "print(arr4_by_4)\n",
    "arr4_by_4[arr4_by_4> 5]=0.5\n",
    "print(\"After values>5 replaced with 0.5 \\n\", arr4_by_4)"
   ]
  },
  {
   "cell_type": "markdown",
   "metadata": {},
   "source": [
    "Add two arrays element-wise.\n",
    "\n",
    "Multiply two arrays element-wise."
   ]
  },
  {
   "cell_type": "code",
   "execution_count": 61,
   "metadata": {},
   "outputs": [
    {
     "name": "stdout",
     "output_type": "stream",
     "text": [
      "sum=\n",
      " [ 3  7 11 15]\n",
      "product=\n",
      " [ 2 12 30 56]\n"
     ]
    }
   ],
   "source": [
    "# write code here\n",
    "arr1=np.array([1,3,5,7])\n",
    "arr2=np.array([2,4,6,8])\n",
    "sum=arr1+arr2 \n",
    "print(\"sum=\\n\",sum)\n",
    "product=arr1*arr2\n",
    "print(\"product=\\n\",product)\n"
   ]
  },
  {
   "cell_type": "markdown",
   "metadata": {},
   "source": [
    "Create a function that sums up the numbers in a randomly generated matrix by rows and by columns."
   ]
  },
  {
   "cell_type": "code",
   "execution_count": 64,
   "metadata": {},
   "outputs": [
    {
     "name": "stdout",
     "output_type": "stream",
     "text": [
      "Generated Matrix\n",
      " [[7 3 4 6 1]\n",
      " [8 4 1 5 2]\n",
      " [9 2 2 9 4]\n",
      " [3 8 9 3 3]] \n",
      "Sum by rows\n",
      " [21 20 26 26] \n",
      " Sum by columns\n",
      " [27 17 16 23 10]\n"
     ]
    }
   ],
   "source": [
    "# write code here\n",
    "def add(row, col):\n",
    "    \n",
    "    matrix = np.random.randint(1, 10, size=(row, col))\n",
    "    \n",
    "    row_sums = np.sum(matrix, axis=1)\n",
    "    col_sums = np.sum(matrix, axis=0)\n",
    "    \n",
    "    return matrix, row_sums, col_sums\n",
    "\n",
    "# call the fun\n",
    "rows = 4\n",
    "cols = 5\n",
    "matrix, row_sums, col_sums = add(rows, cols)\n",
    "print(\"Generated Matrix\\n\", matrix, \"\\nSum by rows\\n\", row_sums,\"\\n Sum by columns\\n\",col_sums)"
   ]
  },
  {
   "cell_type": "markdown",
   "metadata": {},
   "source": [
    "Create a function that takes in two matrices and ensures that they can be multiplied, if they can be multiplied, \n",
    "multiply them and print the resulting matrix.\n"
   ]
  },
  {
   "cell_type": "code",
   "execution_count": 67,
   "metadata": {},
   "outputs": [
    {
     "name": "stdout",
     "output_type": "stream",
     "text": [
      "matrix1\n",
      " [[4 4 3 5]\n",
      " [7 2 8 7]\n",
      " [8 2 7 4]]\n",
      "matrix2\n",
      " [[6 7]\n",
      " [6 8]\n",
      " [6 1]\n",
      " [3 5]]\n",
      "Resulting Matrix after multiplication:\n",
      "[[ 81  88]\n",
      " [123 108]\n",
      " [114  99]]\n",
      "matrix1\n",
      " [[4 4 3 5]\n",
      " [7 2 8 7]\n",
      " [8 2 7 4]]\n",
      "matrix2\n",
      " [[6 7]\n",
      " [6 8]\n",
      " [6 1]\n",
      " [3 5]]\n",
      "Error: Matrices cannot be multiplied due to incompatible dimensions.\n"
     ]
    }
   ],
   "source": [
    "# write code here\n",
    "\n",
    "def multiply_matrices(mat1, mat2):\n",
    "    \n",
    "    if mat1.shape[1] == mat2.shape[0]:\n",
    "        result = np.dot(mat1, mat2)\n",
    "        print(\"Resulting Matrix after multiplication:\")\n",
    "        print(result)\n",
    "    else:\n",
    "        print(\"Error: Matrices cannot be multiplied due to incompatible dimensions.\")\n",
    "\n",
    "# Call the function\n",
    "matrix1 = np.random.randint(1, 10, (3, 4))  \n",
    "print(\"matrix1\\n\",matrix1)\n",
    "matrix2 = np.random.randint(1, 10, (4, 2))  \n",
    "print(\"matrix2\\n\",matrix2)\n",
    "multiply_matrices(matrix1, matrix2)\n",
    "#test for incompatible dimensions\n",
    "matr1 = np.random.randint(1, 10, (3, 3))  \n",
    "print(\"matrix1\\n\",matrix1)\n",
    "matr2 = np.random.randint(1, 10, (4, 2))  \n",
    "print(\"matrix2\\n\",matrix2)\n",
    "multiply_matrices(matr1, matr2)\n"
   ]
  },
  {
   "cell_type": "markdown",
   "metadata": {},
   "source": [
    "Find the minimum value of a randomly generated 5x5 matrix with the indices by row and column of where they appear in the matrix."
   ]
  },
  {
   "cell_type": "code",
   "execution_count": 70,
   "metadata": {},
   "outputs": [
    {
     "name": "stdout",
     "output_type": "stream",
     "text": [
      "Generated Matrix:\n",
      "[[2 1 7 3 7]\n",
      " [3 6 1 8 3]\n",
      " [5 1 6 5 8]\n",
      " [6 7 9 7 5]\n",
      " [8 5 3 6 3]]\n",
      "\n",
      "Minimum Value: 1\n"
     ]
    }
   ],
   "source": [
    "# write code here\n",
    "\n",
    "mat5_by_5 = np.random.randint(1, 10, size=(5, 5))\n",
    "\n",
    "min_index = np.unravel_index(np.argmin(mat5_by_5), mat5_by_5.shape)\n",
    "min_value = mat5_by_5[min_index]\n",
    "print(\"Generated Matrix:\")\n",
    "print(mat5_by_5)\n",
    "\n",
    "print(\"\\nMinimum Value:\", min_value)\n",
    "\n"
   ]
  },
  {
   "cell_type": "code",
   "execution_count": null,
   "metadata": {},
   "outputs": [],
   "source": []
  }
 ],
 "metadata": {
  "kernelspec": {
   "display_name": "Python 3",
   "language": "python",
   "name": "python3"
  },
  "language_info": {
   "codemirror_mode": {
    "name": "ipython",
    "version": 3
   },
   "file_extension": ".py",
   "mimetype": "text/x-python",
   "name": "python",
   "nbconvert_exporter": "python",
   "pygments_lexer": "ipython3",
   "version": "3.12.5"
  }
 },
 "nbformat": 4,
 "nbformat_minor": 2
}
